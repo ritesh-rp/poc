{
  "cells": [
    {
      "cell_type": "code",
      "execution_count": 1,
      "metadata": {
        "id": "DOUiAabGPCbZ"
      },
      "outputs": [
        {
          "name": "stderr",
          "output_type": "stream",
          "text": [
            "2024-06-26 15:21:05.454123: I tensorflow/tsl/cuda/cudart_stub.cc:28] Could not find cuda drivers on your machine, GPU will not be used.\n",
            "2024-06-26 15:21:05.519370: I tensorflow/tsl/cuda/cudart_stub.cc:28] Could not find cuda drivers on your machine, GPU will not be used.\n",
            "2024-06-26 15:21:05.526711: I tensorflow/core/platform/cpu_feature_guard.cc:182] This TensorFlow binary is optimized to use available CPU instructions in performance-critical operations.\n",
            "To enable the following instructions: AVX2 FMA, in other operations, rebuild TensorFlow with the appropriate compiler flags.\n",
            "2024-06-26 15:21:08.108478: W tensorflow/compiler/tf2tensorrt/utils/py_utils.cc:38] TF-TRT Warning: Could not find TensorRT\n"
          ]
        }
      ],
      "source": [
        "import tensorflow as tf\n",
        "from tensorflow import keras\n",
        "from keras import Sequential\n",
        "from keras.layers import Conv2D,Dense,Flatten,MaxPooling2D\n",
        "from keras.preprocessing.image import ImageDataGenerator\n"
      ]
    },
    {
      "cell_type": "code",
      "execution_count": 2,
      "metadata": {
        "colab": {
          "base_uri": "https://localhost:8080/"
        },
        "id": "kDyqqbm1PsCj",
        "outputId": "e670dcdf-f412-4d6d-e597-a8e6850a967b"
      },
      "outputs": [
        {
          "name": "stdout",
          "output_type": "stream",
          "text": [
            "Found 3566 images belonging to 8 classes.\n",
            "Found 345 images belonging to 8 classes.\n"
          ]
        }
      ],
      "source": [
        "# train_ds = keras.utils.image_dataset_from_directory(\"/home/user/Documents/learning/AI python/Tensorflow/archive/Indian currency dataset v1/training\")\n",
        "# validation_ds = keras.utils.image_dataset_from_directory(\"/home/user/Documents/learning/AI python/Tensorflow/archive/Indian currency dataset v1/validation\")\n",
        "\n",
        "\n",
        "train_datagen = ImageDataGenerator(\n",
        "        rescale=1./255,\n",
        "        shear_range=0.2,\n",
        "        rotation_range=30,\n",
        "        horizontal_flip=True)\n",
        "\n",
        "train_generator = train_datagen.flow_from_directory(\n",
        "    \"/home/user/Documents/learning/AI python/Tensorflow/archive/Indian currency dataset v1/training\",\n",
        "    target_size=(64,64),\n",
        "    batch_size=32,\n",
        "    shuffle=True,\n",
        "    seed=42,\n",
        "    color_mode=\"rgb\",\n",
        "    class_mode='categorical')\n",
        "\n",
        "\n",
        "test_datagen = ImageDataGenerator(rescale=1./255)\n",
        "\n",
        "test_generator = test_datagen.flow_from_directory(\n",
        "    \"/home/user/Documents/learning/AI python/Tensorflow/archive/Indian currency dataset v1/validation\",\n",
        "    target_size=(64,64),\n",
        "    batch_size=32,\n",
        "    shuffle=True,\n",
        "    seed=42,\n",
        "    color_mode=\"rgb\",\n",
        "    class_mode='categorical')\n",
        "# test_datagen = ImageDataGenerator(rescale=1./255)"
      ]
    },
    {
      "cell_type": "code",
      "execution_count": null,
      "metadata": {},
      "outputs": [],
      "source": []
    },
    {
      "cell_type": "code",
      "execution_count": 32,
      "metadata": {
        "id": "vRHYZjlt0oZd"
      },
      "outputs": [],
      "source": [
        "# #Normanze\n",
        "# def process (image, label):\n",
        "#   image = tf.cast(image/255., tf.float32)\n",
        "#   return image,label\n",
        "\n",
        "# train_ds = train_ds.map(process)\n",
        "# validation_ds = validation_ds.map(process)\n"
      ]
    },
    {
      "cell_type": "code",
      "execution_count": 3,
      "metadata": {
        "colab": {
          "base_uri": "https://localhost:8080/"
        },
        "collapsed": true,
        "id": "PRSWmkgL36OL",
        "outputId": "61105c5f-d090-4083-a756-2220715e3aa7"
      },
      "outputs": [
        {
          "name": "stdout",
          "output_type": "stream",
          "text": [
            "Model: \"sequential\"\n",
            "_________________________________________________________________\n",
            " Layer (type)                Output Shape              Param #   \n",
            "=================================================================\n",
            " conv2d (Conv2D)             (None, 62, 62, 32)        896       \n",
            "                                                                 \n",
            " max_pooling2d (MaxPooling2  (None, 61, 61, 32)        0         \n",
            " D)                                                              \n",
            "                                                                 \n",
            " conv2d_1 (Conv2D)           (None, 59, 59, 64)        18496     \n",
            "                                                                 \n",
            " max_pooling2d_1 (MaxPoolin  (None, 58, 58, 64)        0         \n",
            " g2D)                                                            \n",
            "                                                                 \n",
            " conv2d_2 (Conv2D)           (None, 56, 56, 64)        36928     \n",
            "                                                                 \n",
            " max_pooling2d_2 (MaxPoolin  (None, 55, 55, 64)        0         \n",
            " g2D)                                                            \n",
            "                                                                 \n",
            " conv2d_3 (Conv2D)           (None, 53, 53, 64)        36928     \n",
            "                                                                 \n",
            " max_pooling2d_3 (MaxPoolin  (None, 52, 52, 64)        0         \n",
            " g2D)                                                            \n",
            "                                                                 \n",
            " flatten (Flatten)           (None, 173056)            0         \n",
            "                                                                 \n",
            " dense (Dense)               (None, 64)                11075648  \n",
            "                                                                 \n",
            " dense_1 (Dense)             (None, 8)                 520       \n",
            "                                                                 \n",
            "=================================================================\n",
            "Total params: 11169416 (42.61 MB)\n",
            "Trainable params: 11169416 (42.61 MB)\n",
            "Non-trainable params: 0 (0.00 Byte)\n",
            "_________________________________________________________________\n"
          ]
        },
        {
          "name": "stderr",
          "output_type": "stream",
          "text": [
            "2024-06-26 15:21:19.829438: W tensorflow/tsl/framework/cpu_allocator_impl.cc:83] Allocation of 44302336 exceeds 10% of free system memory.\n",
            "2024-06-26 15:21:19.858175: W tensorflow/tsl/framework/cpu_allocator_impl.cc:83] Allocation of 44302336 exceeds 10% of free system memory.\n",
            "2024-06-26 15:21:19.868218: W tensorflow/tsl/framework/cpu_allocator_impl.cc:83] Allocation of 44302336 exceeds 10% of free system memory.\n"
          ]
        }
      ],
      "source": [
        "model = Sequential()\n",
        "\n",
        "model.add(Conv2D(32,kernel_size=(3,3),padding='valid',activation='relu',input_shape=(64,64,3)))\n",
        "model.add(MaxPooling2D(pool_size=(2,2),strides =1))\n",
        "\n",
        "model.add(Conv2D(64,kernel_size=(3,3),padding='valid',activation='relu'))\n",
        "model.add(MaxPooling2D(pool_size=(2,2),strides =1))\n",
        "\n",
        "model.add(Conv2D(64,kernel_size=(3,3),padding='valid',activation='relu'))\n",
        "model.add(MaxPooling2D(pool_size=(2,2),strides =1))\n",
        "\n",
        "\n",
        "model.add(Conv2D(64,kernel_size=(3,3),padding='valid',activation='relu'))\n",
        "model.add(MaxPooling2D(pool_size=(2,2),strides =1))\n",
        "\n",
        "model.add(Flatten())\n",
        "\n",
        "# model.add(Dense(256,activation='relu'))\n",
        "model.add(Dense(64,activation='relu'))\n",
        "# model.add(Dense(64,activation='relu'))\n",
        "model.add(Dense(8,activation='softmax'))\n",
        "\n",
        "model.summary()"
      ]
    },
    {
      "cell_type": "code",
      "execution_count": 34,
      "metadata": {
        "id": "V0O3c7hC8hM4"
      },
      "outputs": [],
      "source": [
        "model.compile(optimizer ='adam', loss ='categorical_crossentropy', metrics = ['accuracy'])\n"
      ]
    },
    {
      "cell_type": "code",
      "execution_count": 35,
      "metadata": {
        "colab": {
          "base_uri": "https://localhost:8080/"
        },
        "id": "ywHFjcWs9JQr",
        "outputId": "69ddfa93-9fd2-4592-c9ae-85e7a2d2e117"
      },
      "outputs": [
        {
          "name": "stdout",
          "output_type": "stream",
          "text": [
            "Epoch 1/5\n",
            "112/112 [==============================] - 188s 2s/step - loss: 2.1075 - accuracy: 0.1357 - val_loss: 2.0777 - val_accuracy: 0.1304\n",
            "Epoch 2/5\n",
            "112/112 [==============================] - 166s 1s/step - loss: 2.0785 - accuracy: 0.1402 - val_loss: 2.0771 - val_accuracy: 0.1304\n",
            "Epoch 3/5\n",
            "112/112 [==============================] - 165s 1s/step - loss: 2.0782 - accuracy: 0.1402 - val_loss: 2.0767 - val_accuracy: 0.1304\n",
            "Epoch 4/5\n",
            "112/112 [==============================] - 165s 1s/step - loss: 2.0812 - accuracy: 0.1380 - val_loss: 2.0813 - val_accuracy: 0.1449\n",
            "Epoch 5/5\n",
            "112/112 [==============================] - 155s 1s/step - loss: 2.0793 - accuracy: 0.1450 - val_loss: 2.0758 - val_accuracy: 0.1304\n"
          ]
        }
      ],
      "source": [
        "history = model.fit(train_generator,epochs = 5,validation_data=test_generator)\n"
      ]
    },
    {
      "cell_type": "code",
      "execution_count": 36,
      "metadata": {},
      "outputs": [],
      "source": [
        "model.save(\"sixth_strides.keras\")\n"
      ]
    },
    {
      "cell_type": "code",
      "execution_count": null,
      "metadata": {},
      "outputs": [],
      "source": []
    }
  ],
  "metadata": {
    "accelerator": "GPU",
    "colab": {
      "gpuType": "T4",
      "provenance": []
    },
    "kernelspec": {
      "display_name": "Python 3",
      "name": "python3"
    },
    "language_info": {
      "codemirror_mode": {
        "name": "ipython",
        "version": 3
      },
      "file_extension": ".py",
      "mimetype": "text/x-python",
      "name": "python",
      "nbconvert_exporter": "python",
      "pygments_lexer": "ipython3",
      "version": "3.8.10"
    }
  },
  "nbformat": 4,
  "nbformat_minor": 0
}
